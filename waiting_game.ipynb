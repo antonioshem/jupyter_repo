{
 "cells": [
  {
   "cell_type": "code",
   "execution_count": 36,
   "id": "ceee6296-f415-4f5e-8041-d0fba6d71df7",
   "metadata": {},
   "outputs": [
    {
     "name": "stdout",
     "output_type": "stream",
     "text": [
      "\n",
      " Your target time is 4 seconds\n"
     ]
    },
    {
     "name": "stdin",
     "output_type": "stream",
     "text": [
      "---Press Enter to Begin--- \n",
      "\n",
      " ...Press Enter again after 4 seconds... \n"
     ]
    },
    {
     "name": "stdout",
     "output_type": "stream",
     "text": [
      "\n",
      " Elapsed time: 3.747 seconds\n",
      "(0.253 seconds too fast)\n"
     ]
    }
   ],
   "source": [
    "#a waiting game\n",
    "#when a player runs the game, it will print for them to wait a random amount of time, between 2 to 4 seconds. When the player enters enter, the timer starts. The player waits for this timer and press enter again and it displays the elapsed time to show if the player was too fast or too slow\n",
    "# or right on target\n",
    "\n",
    "import time\n",
    "import random\n",
    "\n",
    "def waiting_game():\n",
    "    target=random.randint(2, 4) #target seconds to wait\n",
    "    print(f'\\n Your target time is {target} seconds')\n",
    "    \n",
    "    input('---Press Enter to Begin---')\n",
    "    start = time.perf_counter()\n",
    "    \n",
    "    input(f'\\n ...Press Enter again after {target} seconds...')\n",
    "    elapsed = time.perf_counter() - start\n",
    "    \n",
    "    print(f'\\n Elapsed time: {elapsed :.3f} seconds')\n",
    "          \n",
    "    if elapsed == target:\n",
    "          print('Perfect timing!')\n",
    "    elif elapsed < target:\n",
    "          print(f'({target - elapsed :.3f} seconds too fast)')\n",
    "    else:\n",
    "          print(f'({ elapsed - target :.3f} seconds too slow)')\n",
    "            \n",
    "waiting_game()"
   ]
  },
  {
   "cell_type": "code",
   "execution_count": null,
   "id": "3cfa6c9f-e246-4d99-9255-b68a101c6663",
   "metadata": {},
   "outputs": [],
   "source": []
  }
 ],
 "metadata": {
  "kernelspec": {
   "display_name": "Python 3 (ipykernel)",
   "language": "python",
   "name": "python3"
  },
  "language_info": {
   "codemirror_mode": {
    "name": "ipython",
    "version": 3
   },
   "file_extension": ".py",
   "mimetype": "text/x-python",
   "name": "python",
   "nbconvert_exporter": "python",
   "pygments_lexer": "ipython3",
   "version": "3.11.3"
  }
 },
 "nbformat": 4,
 "nbformat_minor": 5
}
