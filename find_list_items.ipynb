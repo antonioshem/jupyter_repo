{
 "cells": [
  {
   "cell_type": "code",
   "execution_count": 14,
   "id": "f284f455-11c9-48c8-a29c-43c6d56742fc",
   "metadata": {},
   "outputs": [
    {
     "name": "stdout",
     "output_type": "stream",
     "text": [
      "[]\n"
     ]
    }
   ],
   "source": [
    "# write a python function to index all items in a list that are to a given value\n",
    "#input is list to search, value to search for\n",
    "#output is list of indices\n",
    "\n",
    "def index_all(search_list, item):\n",
    "    index_list = []\n",
    "    for index, value in enumerate(search_list):\n",
    "        if value == item:\n",
    "            index_list.append([index])\n",
    "            \n",
    "        elif isinstance(value, list):\n",
    "            for i in index_all(value, item):\n",
    "                index_list.append([index] + i)\n",
    "    return index_list\n",
    "\n",
    "my_list = [[1, 2, 3],[3],[3, 4, 5, 3]]\n",
    "search_value = [5]\n",
    "result = index_all(my_list, search_value)\n",
    "print(result)"
   ]
  },
  {
   "cell_type": "code",
   "execution_count": null,
   "id": "423a2780-bb9f-4c00-8b50-b725b426c005",
   "metadata": {},
   "outputs": [],
   "source": []
  }
 ],
 "metadata": {
  "kernelspec": {
   "display_name": "Python 3 (ipykernel)",
   "language": "python",
   "name": "python3"
  },
  "language_info": {
   "codemirror_mode": {
    "name": "ipython",
    "version": 3
   },
   "file_extension": ".py",
   "mimetype": "text/x-python",
   "name": "python",
   "nbconvert_exporter": "python",
   "pygments_lexer": "ipython3",
   "version": "3.11.3"
  }
 },
 "nbformat": 4,
 "nbformat_minor": 5
}
